{
 "cells": [
  {
   "cell_type": "markdown",
   "metadata": {},
   "source": [
    "# King-Rook vs King-Pawn Chess Problem\n",
    "## Predicting the winner of this classic final chess game\n",
    "\n",
    "This is an endgame in a chess game where only the white king and rook are left, and the black king and pawn, where the pawn is in position a7. In this case, it's white's turn to move. So, the problem is to predict whether the white side will win or not, based on what position each piece is."
   ]
  },
  {
   "cell_type": "markdown",
   "metadata": {},
   "source": [
    "<p align=\"center\">\n",
    "<img src=\"img/rook-endgames.png\">\n",
    "</p>"
   ]
  },
  {
   "cell_type": "markdown",
   "metadata": {},
   "source": [
    "# 0.0. Imports "
   ]
  },
  {
   "cell_type": "code",
   "execution_count": 58,
   "metadata": {},
   "outputs": [],
   "source": [
    "import pandas as pd\n",
    "import numpy  as np\n",
    "\n",
    "from sklearn.preprocessing         import LabelEncoder\n",
    "from sklearn.model_selection       import train_test_split\n",
    "from sklearn.model_selection       import cross_val_score\n",
    "from sklearn.svm                   import SVC\n",
    "from sklearn.neural_network        import MLPClassifier\n",
    "from sklearn.discriminant_analysis import LinearDiscriminantAnalysis\n",
    "from sklearn.metrics               import accuracy_score\n",
    "\n",
    "import random\n",
    "import warnings\n",
    "warnings.filterwarnings( \"ignore\" )"
   ]
  },
  {
   "cell_type": "markdown",
   "metadata": {},
   "source": [
    "## 0.1. Helper Functions"
   ]
  },
  {
   "cell_type": "code",
   "execution_count": 63,
   "metadata": {},
   "outputs": [],
   "source": [
    "# Support Vector Machine\n",
    "def svm_model( X_train, X_test, y_train, y_test, cv, MAX_EVAL, param ):\n",
    "    \n",
    "    final_result = {\n",
    "        'Regularization': [],\n",
    "        'Gamma': [],\n",
    "        'Tol': [],\n",
    "        'Max_iter': [],\n",
    "        'Hold_out': [],\n",
    "        'Cross_validation': []\n",
    "    }\n",
    "    \n",
    "    for i in range( MAX_EVAL ):\n",
    "        \n",
    "        # choose values for parameters randomly\n",
    "        hp = { k: random.sample( v, 1 )[0] for k, v in param.items() }\n",
    "        final_result['Regularization'].append( hp['C'] )\n",
    "        final_result['Gamma'].append( hp['gamma'] )\n",
    "        final_result['Tol'].append( hp['tol'] )\n",
    "        final_result['Max_iter'].append( hp['max_iter'] )\n",
    "        \n",
    "        # model\n",
    "        model_svm = SVC( C = hp['C'],\n",
    "                         gamma = hp['gamma'],\n",
    "                         tol = hp['tol'],\n",
    "                         max_iter = hp['max_iter'],\n",
    "                         random_state = 33)\n",
    "        \n",
    "        # fit and training\n",
    "        y_pred = model_svm.fit( X_train, y_train ).predict( X_test )\n",
    "        \n",
    "        # performance - hold-out\n",
    "        result = accuracy_score( y_test, y_pred )\n",
    "        \n",
    "        # performance - cross validation\n",
    "        result_cv = cross_val_score( model_svm, X_train, y_train, cv=cv )\n",
    "        \n",
    "        final_result['Hold_out'].append( format( result, \".2f\" ) )\n",
    "        final_result['Cross_validation'].append( format( np.mean( result_cv ), \".2f\" ) )\n",
    "        \n",
    "    return pd.DataFrame( final_result ) \n",
    "\n",
    "# Multilayer Perceptron\n",
    "def mlp_model( X_train, X_test, y_train, y_test, cv, MAX_EVAL, param ):\n",
    "    \n",
    "    final_result = {\n",
    "        'Hidden_layer_sizes': [],\n",
    "        'Activation': [],\n",
    "        'Solver': [],\n",
    "        'Hold_out': [],\n",
    "        'Cross_validation': []\n",
    "    }\n",
    "    \n",
    "    for i in range( MAX_EVAL ):\n",
    "        \n",
    "        # choose values for parameters randomly\n",
    "        hp = { k: random.sample( v, 1 )[0] for k, v in param.items() }\n",
    "        final_result['Hidden_layer_sizes'].append( hp['hls'] )\n",
    "        final_result['Activation'].append( hp['activation'] )\n",
    "        final_result['Solver'].append( hp['solver'])\n",
    "        \n",
    "        # model\n",
    "        model_mlp = MLPClassifier( hidden_layer_sizes = hp['hls'],\n",
    "                                   activation = hp['activation'],\n",
    "                                   solver = hp['solver'],\n",
    "                                   random_state = 33 )\n",
    "        \n",
    "        # fit and training\n",
    "        y_pred = model_mlp.fit( X_train, y_train ).predict( X_test )\n",
    "        \n",
    "        # performance - hold-out\n",
    "        result = accuracy_score( y_test, y_pred )\n",
    "        \n",
    "        # performance - cross validation\n",
    "        result_cv = cross_val_score( model_mlp, X_train, y_train, cv=cv )\n",
    "        \n",
    "        final_result['Hold_out'].append( format( result, \".2f\" ) )\n",
    "        final_result['Cross_validation'].append( format ( np.mean( result_cv ), \".2f\" ) )\n",
    "        \n",
    "    return pd.DataFrame( final_result ) \n",
    "\n",
    "# Linear Discriminant Analysis\n",
    "def lda_model( X_train, X_test, y_train, y_test, cv, MAX_EVAL, param ):\n",
    "    \n",
    "    final_result = {\n",
    "        'Solver': [],\n",
    "        'Hold_out': [],\n",
    "        'Cross_validation': []\n",
    "    }\n",
    "    \n",
    "    for i in range( MAX_EVAL ):\n",
    "        \n",
    "        # choose values for parameters randomly\n",
    "        hp = { k: random.sample( v, 1 )[0] for k, v in param.items() }\n",
    "        final_result['Solver'].append( hp['solver'] )\n",
    "        \n",
    "        # model\n",
    "        model_lda = LinearDiscriminantAnalysis( solver = hp['solver'] )\n",
    "        \n",
    "        # fit and training\n",
    "        y_pred = model_lda.fit( X_train, y_train ).predict( X_test )\n",
    "        \n",
    "        # performance - hold-out\n",
    "        result = accuracy_score( y_test, y_pred )\n",
    "        \n",
    "        # performance - cross validation\n",
    "        result_cv = cross_val_score( model_lda, X_train, y_train, cv=cv )\n",
    "        \n",
    "        final_result['Hold_out'].append( format( result, \".2f\" ) )\n",
    "        final_result['Cross_validation'].append( format ( np.mean( result_cv ), \".2f\" ) )\n",
    "        \n",
    "    return pd.DataFrame( final_result ) "
   ]
  },
  {
   "cell_type": "markdown",
   "metadata": {},
   "source": [
    "## 0.2. Loading Data"
   ]
  },
  {
   "cell_type": "code",
   "execution_count": 27,
   "metadata": {
    "scrolled": false
   },
   "outputs": [],
   "source": [
    "df_raw = pd.read_csv( 'datasets/kr-vs-kp.data' )"
   ]
  },
  {
   "cell_type": "markdown",
   "metadata": {},
   "source": [
    "# 1.0. Data Description"
   ]
  },
  {
   "cell_type": "code",
   "execution_count": 30,
   "metadata": {},
   "outputs": [
    {
     "data": {
      "text/html": [
       "<div>\n",
       "<style scoped>\n",
       "    .dataframe tbody tr th:only-of-type {\n",
       "        vertical-align: middle;\n",
       "    }\n",
       "\n",
       "    .dataframe tbody tr th {\n",
       "        vertical-align: top;\n",
       "    }\n",
       "\n",
       "    .dataframe thead th {\n",
       "        text-align: right;\n",
       "    }\n",
       "</style>\n",
       "<table border=\"1\" class=\"dataframe\">\n",
       "  <thead>\n",
       "    <tr style=\"text-align: right;\">\n",
       "      <th></th>\n",
       "      <th>f</th>\n",
       "      <th>f.1</th>\n",
       "      <th>f.2</th>\n",
       "      <th>f.3</th>\n",
       "      <th>f.4</th>\n",
       "      <th>f.5</th>\n",
       "      <th>f.6</th>\n",
       "      <th>f.7</th>\n",
       "      <th>f.8</th>\n",
       "      <th>f.9</th>\n",
       "      <th>...</th>\n",
       "      <th>f.23</th>\n",
       "      <th>f.24</th>\n",
       "      <th>f.25</th>\n",
       "      <th>f.26</th>\n",
       "      <th>f.27</th>\n",
       "      <th>f.28</th>\n",
       "      <th>t.2</th>\n",
       "      <th>t.3</th>\n",
       "      <th>n.1</th>\n",
       "      <th>won</th>\n",
       "    </tr>\n",
       "  </thead>\n",
       "  <tbody>\n",
       "    <tr>\n",
       "      <th>94</th>\n",
       "      <td>f</td>\n",
       "      <td>f</td>\n",
       "      <td>f</td>\n",
       "      <td>f</td>\n",
       "      <td>f</td>\n",
       "      <td>f</td>\n",
       "      <td>t</td>\n",
       "      <td>f</td>\n",
       "      <td>f</td>\n",
       "      <td>f</td>\n",
       "      <td>...</td>\n",
       "      <td>f</td>\n",
       "      <td>f</td>\n",
       "      <td>f</td>\n",
       "      <td>f</td>\n",
       "      <td>f</td>\n",
       "      <td>f</td>\n",
       "      <td>t</td>\n",
       "      <td>f</td>\n",
       "      <td>n</td>\n",
       "      <td>won</td>\n",
       "    </tr>\n",
       "    <tr>\n",
       "      <th>2040</th>\n",
       "      <td>f</td>\n",
       "      <td>f</td>\n",
       "      <td>f</td>\n",
       "      <td>f</td>\n",
       "      <td>f</td>\n",
       "      <td>t</td>\n",
       "      <td>t</td>\n",
       "      <td>f</td>\n",
       "      <td>f</td>\n",
       "      <td>t</td>\n",
       "      <td>...</td>\n",
       "      <td>f</td>\n",
       "      <td>f</td>\n",
       "      <td>f</td>\n",
       "      <td>f</td>\n",
       "      <td>f</td>\n",
       "      <td>t</td>\n",
       "      <td>t</td>\n",
       "      <td>t</td>\n",
       "      <td>n</td>\n",
       "      <td>won</td>\n",
       "    </tr>\n",
       "    <tr>\n",
       "      <th>1937</th>\n",
       "      <td>f</td>\n",
       "      <td>f</td>\n",
       "      <td>f</td>\n",
       "      <td>t</td>\n",
       "      <td>t</td>\n",
       "      <td>t</td>\n",
       "      <td>f</td>\n",
       "      <td>f</td>\n",
       "      <td>f</td>\n",
       "      <td>f</td>\n",
       "      <td>...</td>\n",
       "      <td>f</td>\n",
       "      <td>f</td>\n",
       "      <td>f</td>\n",
       "      <td>f</td>\n",
       "      <td>f</td>\n",
       "      <td>f</td>\n",
       "      <td>f</td>\n",
       "      <td>t</td>\n",
       "      <td>t</td>\n",
       "      <td>won</td>\n",
       "    </tr>\n",
       "    <tr>\n",
       "      <th>2615</th>\n",
       "      <td>f</td>\n",
       "      <td>t</td>\n",
       "      <td>f</td>\n",
       "      <td>t</td>\n",
       "      <td>f</td>\n",
       "      <td>t</td>\n",
       "      <td>f</td>\n",
       "      <td>f</td>\n",
       "      <td>f</td>\n",
       "      <td>t</td>\n",
       "      <td>...</td>\n",
       "      <td>f</td>\n",
       "      <td>f</td>\n",
       "      <td>f</td>\n",
       "      <td>f</td>\n",
       "      <td>f</td>\n",
       "      <td>t</td>\n",
       "      <td>t</td>\n",
       "      <td>t</td>\n",
       "      <td>n</td>\n",
       "      <td>nowin</td>\n",
       "    </tr>\n",
       "    <tr>\n",
       "      <th>2291</th>\n",
       "      <td>f</td>\n",
       "      <td>f</td>\n",
       "      <td>f</td>\n",
       "      <td>f</td>\n",
       "      <td>f</td>\n",
       "      <td>t</td>\n",
       "      <td>f</td>\n",
       "      <td>f</td>\n",
       "      <td>f</td>\n",
       "      <td>f</td>\n",
       "      <td>...</td>\n",
       "      <td>f</td>\n",
       "      <td>f</td>\n",
       "      <td>t</td>\n",
       "      <td>f</td>\n",
       "      <td>f</td>\n",
       "      <td>t</td>\n",
       "      <td>f</td>\n",
       "      <td>t</td>\n",
       "      <td>t</td>\n",
       "      <td>won</td>\n",
       "    </tr>\n",
       "  </tbody>\n",
       "</table>\n",
       "<p>5 rows × 37 columns</p>\n",
       "</div>"
      ],
      "text/plain": [
       "      f f.1 f.2 f.3 f.4 f.5 f.6 f.7 f.8 f.9  ... f.23 f.24 f.25 f.26 f.27  \\\n",
       "94    f   f   f   f   f   f   t   f   f   f  ...    f    f    f    f    f   \n",
       "2040  f   f   f   f   f   t   t   f   f   t  ...    f    f    f    f    f   \n",
       "1937  f   f   f   t   t   t   f   f   f   f  ...    f    f    f    f    f   \n",
       "2615  f   t   f   t   f   t   f   f   f   t  ...    f    f    f    f    f   \n",
       "2291  f   f   f   f   f   t   f   f   f   f  ...    f    f    t    f    f   \n",
       "\n",
       "     f.28 t.2 t.3 n.1    won  \n",
       "94      f   t   f   n    won  \n",
       "2040    t   t   t   n    won  \n",
       "1937    f   f   t   t    won  \n",
       "2615    t   t   t   n  nowin  \n",
       "2291    t   f   t   t    won  \n",
       "\n",
       "[5 rows x 37 columns]"
      ]
     },
     "execution_count": 30,
     "metadata": {},
     "output_type": "execute_result"
    }
   ],
   "source": [
    "# Shuffling the dataset\n",
    "df = df_raw.sample( frac = 1 )\n",
    "df.head()"
   ]
  },
  {
   "cell_type": "markdown",
   "metadata": {},
   "source": [
    "## 1.1. Data Dimensions"
   ]
  },
  {
   "cell_type": "code",
   "execution_count": 3,
   "metadata": {},
   "outputs": [
    {
     "data": {
      "text/plain": [
       "(3195, 37)"
      ]
     },
     "execution_count": 3,
     "metadata": {},
     "output_type": "execute_result"
    }
   ],
   "source": [
    "df.shape"
   ]
  },
  {
   "cell_type": "markdown",
   "metadata": {},
   "source": [
    "## 1.2. Data Types"
   ]
  },
  {
   "cell_type": "code",
   "execution_count": 5,
   "metadata": {},
   "outputs": [
    {
     "data": {
      "text/plain": [
       "f       object\n",
       "f.1     object\n",
       "f.2     object\n",
       "f.3     object\n",
       "f.4     object\n",
       "f.5     object\n",
       "f.6     object\n",
       "f.7     object\n",
       "f.8     object\n",
       "f.9     object\n",
       "f.10    object\n",
       "f.11    object\n",
       "l       object\n",
       "f.12    object\n",
       "n       object\n",
       "f.13    object\n",
       "f.14    object\n",
       "t       object\n",
       "f.15    object\n",
       "f.16    object\n",
       "f.17    object\n",
       "f.18    object\n",
       "f.19    object\n",
       "f.20    object\n",
       "f.21    object\n",
       "t.1     object\n",
       "f.22    object\n",
       "f.23    object\n",
       "f.24    object\n",
       "f.25    object\n",
       "f.26    object\n",
       "f.27    object\n",
       "f.28    object\n",
       "t.2     object\n",
       "t.3     object\n",
       "n.1     object\n",
       "won     object\n",
       "dtype: object"
      ]
     },
     "execution_count": 5,
     "metadata": {},
     "output_type": "execute_result"
    }
   ],
   "source": [
    "df.dtypes"
   ]
  },
  {
   "cell_type": "markdown",
   "metadata": {},
   "source": [
    "## 1.3. Check NA"
   ]
  },
  {
   "cell_type": "code",
   "execution_count": 6,
   "metadata": {},
   "outputs": [
    {
     "data": {
      "text/plain": [
       "f       0\n",
       "f.1     0\n",
       "f.2     0\n",
       "f.3     0\n",
       "f.4     0\n",
       "f.5     0\n",
       "f.6     0\n",
       "f.7     0\n",
       "f.8     0\n",
       "f.9     0\n",
       "f.10    0\n",
       "f.11    0\n",
       "l       0\n",
       "f.12    0\n",
       "n       0\n",
       "f.13    0\n",
       "f.14    0\n",
       "t       0\n",
       "f.15    0\n",
       "f.16    0\n",
       "f.17    0\n",
       "f.18    0\n",
       "f.19    0\n",
       "f.20    0\n",
       "f.21    0\n",
       "t.1     0\n",
       "f.22    0\n",
       "f.23    0\n",
       "f.24    0\n",
       "f.25    0\n",
       "f.26    0\n",
       "f.27    0\n",
       "f.28    0\n",
       "t.2     0\n",
       "t.3     0\n",
       "n.1     0\n",
       "won     0\n",
       "dtype: int64"
      ]
     },
     "execution_count": 6,
     "metadata": {},
     "output_type": "execute_result"
    }
   ],
   "source": [
    "df.isnull().sum()"
   ]
  },
  {
   "cell_type": "markdown",
   "metadata": {},
   "source": [
    "# 2.0. Data Preparation"
   ]
  },
  {
   "cell_type": "markdown",
   "metadata": {},
   "source": [
    "## 2.1. Encoding"
   ]
  },
  {
   "cell_type": "code",
   "execution_count": 31,
   "metadata": {},
   "outputs": [],
   "source": [
    "# Categorical encoding\n",
    "for i in df:\n",
    "    df[i] = LabelEncoder().fit_transform( df[i] )"
   ]
  },
  {
   "cell_type": "markdown",
   "metadata": {},
   "source": [
    "## 2.2. Split dataframe into training and test dataset"
   ]
  },
  {
   "cell_type": "code",
   "execution_count": 32,
   "metadata": {},
   "outputs": [],
   "source": [
    "X_train, X_test, y_train, y_test = train_test_split( df.iloc[:, :-1], df.iloc[:, -1] )"
   ]
  },
  {
   "cell_type": "markdown",
   "metadata": {},
   "source": [
    "# 3.0. Machine Learning Modelling"
   ]
  },
  {
   "cell_type": "markdown",
   "metadata": {},
   "source": [
    "## 3.1. Support Vector Machine"
   ]
  },
  {
   "cell_type": "code",
   "execution_count": 35,
   "metadata": {},
   "outputs": [],
   "source": [
    "# Parameters and number of iterations\n",
    "param = {\n",
    "    'C': [0.1, 1, 10, 100],\n",
    "    'gamma': [1, 0.1, 0.01, 0.001],\n",
    "    'tol': [0.0001, 0.001, 0.01, 0.1],\n",
    "    'max_iter': [-1, 200, 500, 1000]\n",
    "}\n",
    "\n",
    "MAX_EVAL = 3"
   ]
  },
  {
   "cell_type": "markdown",
   "metadata": {},
   "source": [
    "### 3.1.1. k = 5 for cross validation"
   ]
  },
  {
   "cell_type": "code",
   "execution_count": 47,
   "metadata": {},
   "outputs": [
    {
     "data": {
      "text/html": [
       "<div>\n",
       "<style scoped>\n",
       "    .dataframe tbody tr th:only-of-type {\n",
       "        vertical-align: middle;\n",
       "    }\n",
       "\n",
       "    .dataframe tbody tr th {\n",
       "        vertical-align: top;\n",
       "    }\n",
       "\n",
       "    .dataframe thead th {\n",
       "        text-align: right;\n",
       "    }\n",
       "</style>\n",
       "<table border=\"1\" class=\"dataframe\">\n",
       "  <thead>\n",
       "    <tr style=\"text-align: right;\">\n",
       "      <th></th>\n",
       "      <th>Regularization</th>\n",
       "      <th>Gamma</th>\n",
       "      <th>Tol</th>\n",
       "      <th>Max_iter</th>\n",
       "      <th>Hold_out</th>\n",
       "      <th>Cross_validation</th>\n",
       "    </tr>\n",
       "  </thead>\n",
       "  <tbody>\n",
       "    <tr>\n",
       "      <th>0</th>\n",
       "      <td>1.0</td>\n",
       "      <td>0.100</td>\n",
       "      <td>0.100</td>\n",
       "      <td>500</td>\n",
       "      <td>0.96</td>\n",
       "      <td>0.96</td>\n",
       "    </tr>\n",
       "    <tr>\n",
       "      <th>1</th>\n",
       "      <td>0.1</td>\n",
       "      <td>0.010</td>\n",
       "      <td>0.010</td>\n",
       "      <td>200</td>\n",
       "      <td>0.70</td>\n",
       "      <td>0.64</td>\n",
       "    </tr>\n",
       "    <tr>\n",
       "      <th>2</th>\n",
       "      <td>1.0</td>\n",
       "      <td>0.001</td>\n",
       "      <td>0.001</td>\n",
       "      <td>-1</td>\n",
       "      <td>0.86</td>\n",
       "      <td>0.80</td>\n",
       "    </tr>\n",
       "  </tbody>\n",
       "</table>\n",
       "</div>"
      ],
      "text/plain": [
       "   Regularization  Gamma    Tol  Max_iter Hold_out Cross_validation\n",
       "0             1.0  0.100  0.100       500     0.96             0.96\n",
       "1             0.1  0.010  0.010       200     0.70             0.64\n",
       "2             1.0  0.001  0.001        -1     0.86             0.80"
      ]
     },
     "execution_count": 47,
     "metadata": {},
     "output_type": "execute_result"
    }
   ],
   "source": [
    "svm_model( X_train, X_test, y_train, y_test, 5, MAX_EVAL, param )"
   ]
  },
  {
   "cell_type": "markdown",
   "metadata": {},
   "source": [
    "### 3.1.2. k = 10 for cross validation"
   ]
  },
  {
   "cell_type": "code",
   "execution_count": 49,
   "metadata": {},
   "outputs": [
    {
     "data": {
      "text/html": [
       "<div>\n",
       "<style scoped>\n",
       "    .dataframe tbody tr th:only-of-type {\n",
       "        vertical-align: middle;\n",
       "    }\n",
       "\n",
       "    .dataframe tbody tr th {\n",
       "        vertical-align: top;\n",
       "    }\n",
       "\n",
       "    .dataframe thead th {\n",
       "        text-align: right;\n",
       "    }\n",
       "</style>\n",
       "<table border=\"1\" class=\"dataframe\">\n",
       "  <thead>\n",
       "    <tr style=\"text-align: right;\">\n",
       "      <th></th>\n",
       "      <th>Regularization</th>\n",
       "      <th>Gamma</th>\n",
       "      <th>Tol</th>\n",
       "      <th>Max_iter</th>\n",
       "      <th>Hold_out</th>\n",
       "      <th>Cross_validation</th>\n",
       "    </tr>\n",
       "  </thead>\n",
       "  <tbody>\n",
       "    <tr>\n",
       "      <th>0</th>\n",
       "      <td>100</td>\n",
       "      <td>1.000</td>\n",
       "      <td>0.001</td>\n",
       "      <td>200</td>\n",
       "      <td>0.98</td>\n",
       "      <td>0.98</td>\n",
       "    </tr>\n",
       "    <tr>\n",
       "      <th>1</th>\n",
       "      <td>10</td>\n",
       "      <td>0.001</td>\n",
       "      <td>0.001</td>\n",
       "      <td>200</td>\n",
       "      <td>0.68</td>\n",
       "      <td>0.69</td>\n",
       "    </tr>\n",
       "    <tr>\n",
       "      <th>2</th>\n",
       "      <td>1</td>\n",
       "      <td>0.001</td>\n",
       "      <td>0.010</td>\n",
       "      <td>-1</td>\n",
       "      <td>0.86</td>\n",
       "      <td>0.81</td>\n",
       "    </tr>\n",
       "  </tbody>\n",
       "</table>\n",
       "</div>"
      ],
      "text/plain": [
       "   Regularization  Gamma    Tol  Max_iter Hold_out Cross_validation\n",
       "0             100  1.000  0.001       200     0.98             0.98\n",
       "1              10  0.001  0.001       200     0.68             0.69\n",
       "2               1  0.001  0.010        -1     0.86             0.81"
      ]
     },
     "execution_count": 49,
     "metadata": {},
     "output_type": "execute_result"
    }
   ],
   "source": [
    "svm_model( X_train, X_test, y_train, y_test, 10, MAX_EVAL, param )"
   ]
  },
  {
   "cell_type": "markdown",
   "metadata": {},
   "source": [
    "## 3.2. Multilayer Perceptron"
   ]
  },
  {
   "cell_type": "code",
   "execution_count": 53,
   "metadata": {},
   "outputs": [],
   "source": [
    "# Parameters and number of iterations\n",
    "param = {\n",
    "    'hls': [ (50,), (100,), (100, 50,), (150, 100,) ],\n",
    "    'activation': [ 'logistic', 'relu', 'tanh', 'identity' ],\n",
    "    'solver': [ 'sgd', 'lbfgs', 'adam' ],\n",
    "}\n",
    "\n",
    "MAX_EVAL = 3"
   ]
  },
  {
   "cell_type": "markdown",
   "metadata": {},
   "source": [
    "### 3.2.1. k = 5 for cross validation"
   ]
  },
  {
   "cell_type": "code",
   "execution_count": 56,
   "metadata": {},
   "outputs": [
    {
     "data": {
      "text/html": [
       "<div>\n",
       "<style scoped>\n",
       "    .dataframe tbody tr th:only-of-type {\n",
       "        vertical-align: middle;\n",
       "    }\n",
       "\n",
       "    .dataframe tbody tr th {\n",
       "        vertical-align: top;\n",
       "    }\n",
       "\n",
       "    .dataframe thead th {\n",
       "        text-align: right;\n",
       "    }\n",
       "</style>\n",
       "<table border=\"1\" class=\"dataframe\">\n",
       "  <thead>\n",
       "    <tr style=\"text-align: right;\">\n",
       "      <th></th>\n",
       "      <th>Hidden_layer_sizes</th>\n",
       "      <th>Activation</th>\n",
       "      <th>Solver</th>\n",
       "      <th>Hold_out</th>\n",
       "      <th>Cross_validation</th>\n",
       "    </tr>\n",
       "  </thead>\n",
       "  <tbody>\n",
       "    <tr>\n",
       "      <th>0</th>\n",
       "      <td>(50,)</td>\n",
       "      <td>tanh</td>\n",
       "      <td>sgd</td>\n",
       "      <td>0.94</td>\n",
       "      <td>0.93</td>\n",
       "    </tr>\n",
       "    <tr>\n",
       "      <th>1</th>\n",
       "      <td>(100, 50)</td>\n",
       "      <td>logistic</td>\n",
       "      <td>lbfgs</td>\n",
       "      <td>0.99</td>\n",
       "      <td>0.99</td>\n",
       "    </tr>\n",
       "    <tr>\n",
       "      <th>2</th>\n",
       "      <td>(50,)</td>\n",
       "      <td>identity</td>\n",
       "      <td>adam</td>\n",
       "      <td>0.98</td>\n",
       "      <td>0.97</td>\n",
       "    </tr>\n",
       "  </tbody>\n",
       "</table>\n",
       "</div>"
      ],
      "text/plain": [
       "  Hidden_layer_sizes Activation Solver Hold_out Cross_validation\n",
       "0              (50,)       tanh    sgd     0.94             0.93\n",
       "1          (100, 50)   logistic  lbfgs     0.99             0.99\n",
       "2              (50,)   identity   adam     0.98             0.97"
      ]
     },
     "execution_count": 56,
     "metadata": {},
     "output_type": "execute_result"
    }
   ],
   "source": [
    "mlp_model( X_train, X_test, y_train, y_test, 5, MAX_EVAL, param )"
   ]
  },
  {
   "cell_type": "markdown",
   "metadata": {},
   "source": [
    "### 3.2.2. k = 10 for cross validation"
   ]
  },
  {
   "cell_type": "code",
   "execution_count": 57,
   "metadata": {},
   "outputs": [
    {
     "data": {
      "text/html": [
       "<div>\n",
       "<style scoped>\n",
       "    .dataframe tbody tr th:only-of-type {\n",
       "        vertical-align: middle;\n",
       "    }\n",
       "\n",
       "    .dataframe tbody tr th {\n",
       "        vertical-align: top;\n",
       "    }\n",
       "\n",
       "    .dataframe thead th {\n",
       "        text-align: right;\n",
       "    }\n",
       "</style>\n",
       "<table border=\"1\" class=\"dataframe\">\n",
       "  <thead>\n",
       "    <tr style=\"text-align: right;\">\n",
       "      <th></th>\n",
       "      <th>Hidden_layer_sizes</th>\n",
       "      <th>Activation</th>\n",
       "      <th>Solver</th>\n",
       "      <th>Hold_out</th>\n",
       "      <th>Cross_validation</th>\n",
       "    </tr>\n",
       "  </thead>\n",
       "  <tbody>\n",
       "    <tr>\n",
       "      <th>0</th>\n",
       "      <td>(150, 100)</td>\n",
       "      <td>logistic</td>\n",
       "      <td>sgd</td>\n",
       "      <td>0.53</td>\n",
       "      <td>0.52</td>\n",
       "    </tr>\n",
       "    <tr>\n",
       "      <th>1</th>\n",
       "      <td>(50,)</td>\n",
       "      <td>identity</td>\n",
       "      <td>sgd</td>\n",
       "      <td>0.95</td>\n",
       "      <td>0.94</td>\n",
       "    </tr>\n",
       "    <tr>\n",
       "      <th>2</th>\n",
       "      <td>(150, 100)</td>\n",
       "      <td>logistic</td>\n",
       "      <td>sgd</td>\n",
       "      <td>0.53</td>\n",
       "      <td>0.52</td>\n",
       "    </tr>\n",
       "  </tbody>\n",
       "</table>\n",
       "</div>"
      ],
      "text/plain": [
       "  Hidden_layer_sizes Activation Solver Hold_out Cross_validation\n",
       "0         (150, 100)   logistic    sgd     0.53             0.52\n",
       "1              (50,)   identity    sgd     0.95             0.94\n",
       "2         (150, 100)   logistic    sgd     0.53             0.52"
      ]
     },
     "execution_count": 57,
     "metadata": {},
     "output_type": "execute_result"
    }
   ],
   "source": [
    "mlp_model( X_train, X_test, y_train, y_test, 10, MAX_EVAL, param )"
   ]
  },
  {
   "cell_type": "markdown",
   "metadata": {},
   "source": [
    "## 3.3. Liner Discriminant Analysis"
   ]
  },
  {
   "cell_type": "code",
   "execution_count": 64,
   "metadata": {},
   "outputs": [],
   "source": [
    "# Parameters and number of iterations\n",
    "param = { 'solver': ['svd', 'lsqr', 'eigen'], 'shrinkage': np.arange(0, 1, 0.01) }\n",
    "\n",
    "MAX_EVAL = 3"
   ]
  },
  {
   "cell_type": "markdown",
   "metadata": {},
   "source": [
    "### 3.3.1. k = 5 for cross validation"
   ]
  },
  {
   "cell_type": "code",
   "execution_count": 73,
   "metadata": {},
   "outputs": [
    {
     "data": {
      "text/html": [
       "<div>\n",
       "<style scoped>\n",
       "    .dataframe tbody tr th:only-of-type {\n",
       "        vertical-align: middle;\n",
       "    }\n",
       "\n",
       "    .dataframe tbody tr th {\n",
       "        vertical-align: top;\n",
       "    }\n",
       "\n",
       "    .dataframe thead th {\n",
       "        text-align: right;\n",
       "    }\n",
       "</style>\n",
       "<table border=\"1\" class=\"dataframe\">\n",
       "  <thead>\n",
       "    <tr style=\"text-align: right;\">\n",
       "      <th></th>\n",
       "      <th>Solver</th>\n",
       "      <th>Hold_out</th>\n",
       "      <th>Cross_validation</th>\n",
       "    </tr>\n",
       "  </thead>\n",
       "  <tbody>\n",
       "    <tr>\n",
       "      <th>0</th>\n",
       "      <td>svd</td>\n",
       "      <td>0.94</td>\n",
       "      <td>0.94</td>\n",
       "    </tr>\n",
       "    <tr>\n",
       "      <th>1</th>\n",
       "      <td>svd</td>\n",
       "      <td>0.94</td>\n",
       "      <td>0.94</td>\n",
       "    </tr>\n",
       "    <tr>\n",
       "      <th>2</th>\n",
       "      <td>lsqr</td>\n",
       "      <td>0.94</td>\n",
       "      <td>0.94</td>\n",
       "    </tr>\n",
       "  </tbody>\n",
       "</table>\n",
       "</div>"
      ],
      "text/plain": [
       "  Solver Hold_out Cross_validation\n",
       "0    svd     0.94             0.94\n",
       "1    svd     0.94             0.94\n",
       "2   lsqr     0.94             0.94"
      ]
     },
     "execution_count": 73,
     "metadata": {},
     "output_type": "execute_result"
    }
   ],
   "source": [
    "lda_model( X_train, X_test, y_train, y_test, 5, MAX_EVAL, param )"
   ]
  },
  {
   "cell_type": "markdown",
   "metadata": {},
   "source": [
    "### 3.3.2. k = 10 for cross validation"
   ]
  },
  {
   "cell_type": "code",
   "execution_count": 68,
   "metadata": {},
   "outputs": [
    {
     "data": {
      "text/html": [
       "<div>\n",
       "<style scoped>\n",
       "    .dataframe tbody tr th:only-of-type {\n",
       "        vertical-align: middle;\n",
       "    }\n",
       "\n",
       "    .dataframe tbody tr th {\n",
       "        vertical-align: top;\n",
       "    }\n",
       "\n",
       "    .dataframe thead th {\n",
       "        text-align: right;\n",
       "    }\n",
       "</style>\n",
       "<table border=\"1\" class=\"dataframe\">\n",
       "  <thead>\n",
       "    <tr style=\"text-align: right;\">\n",
       "      <th></th>\n",
       "      <th>Solver</th>\n",
       "      <th>Hold_out</th>\n",
       "      <th>Cross_validation</th>\n",
       "    </tr>\n",
       "  </thead>\n",
       "  <tbody>\n",
       "    <tr>\n",
       "      <th>0</th>\n",
       "      <td>lsqr</td>\n",
       "      <td>0.94</td>\n",
       "      <td>0.94</td>\n",
       "    </tr>\n",
       "    <tr>\n",
       "      <th>1</th>\n",
       "      <td>svd</td>\n",
       "      <td>0.94</td>\n",
       "      <td>0.94</td>\n",
       "    </tr>\n",
       "    <tr>\n",
       "      <th>2</th>\n",
       "      <td>lsqr</td>\n",
       "      <td>0.94</td>\n",
       "      <td>0.94</td>\n",
       "    </tr>\n",
       "  </tbody>\n",
       "</table>\n",
       "</div>"
      ],
      "text/plain": [
       "  Solver Hold_out Cross_validation\n",
       "0   lsqr     0.94             0.94\n",
       "1    svd     0.94             0.94\n",
       "2   lsqr     0.94             0.94"
      ]
     },
     "execution_count": 68,
     "metadata": {},
     "output_type": "execute_result"
    }
   ],
   "source": [
    "lda_model( X_train, X_test, y_train, y_test, 10, MAX_EVAL, param )"
   ]
  },
  {
   "cell_type": "code",
   "execution_count": null,
   "metadata": {},
   "outputs": [],
   "source": []
  }
 ],
 "metadata": {
  "kernelspec": {
   "display_name": "Python 3",
   "language": "python",
   "name": "python3"
  },
  "language_info": {
   "codemirror_mode": {
    "name": "ipython",
    "version": 3
   },
   "file_extension": ".py",
   "mimetype": "text/x-python",
   "name": "python",
   "nbconvert_exporter": "python",
   "pygments_lexer": "ipython3",
   "version": "3.8.3"
  }
 },
 "nbformat": 4,
 "nbformat_minor": 4
}
