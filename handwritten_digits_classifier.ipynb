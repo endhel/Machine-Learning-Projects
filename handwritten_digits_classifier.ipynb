{
 "cells": [
  {
   "cell_type": "markdown",
   "metadata": {},
   "source": [
    "# Handwritten Digits Classifier"
   ]
  },
  {
   "cell_type": "markdown",
   "metadata": {},
   "source": [
    "<p align=\"center\">\n",
    "<img src=\"img/digits.gif\">\n",
    "</p>"
   ]
  },
  {
   "cell_type": "markdown",
   "metadata": {},
   "source": [
    "The MNIST database contains binary images of **handwritten digits**. The original black and white images from NIST were size normalized to fit in a 20x20 pixel box while preserving their aspect ratio. The resulting images contain grey levels as a result of the anti-aliasing technique used by the normalization algorithm. The images were centered in a 28x28 image by computing the center of mass of the pixels, and translating the image so as to position this point at the center of the 28x28 field.The database has a training set of 60,000 examples, and a test set of 10,000 examples. There are 10 classes (one for each of the 10 digits). **The task at hand is to train a model using the 60,000 training images and subsequently test its classification accuracy on the 10,000 test images**."
   ]
  },
  {
   "cell_type": "markdown",
   "metadata": {},
   "source": [
    "# 1. Imports "
   ]
  },
  {
   "cell_type": "code",
   "execution_count": 4,
   "metadata": {},
   "outputs": [],
   "source": [
    "# imports\n",
    "import pandas as pd\n",
    "import numpy  as np\n",
    "\n",
    "from sklearn.model_selection import train_test_split\n",
    "from sklearn.model_selection import cross_val_score\n",
    "from sklearn.metrics         import confusion_matrix\n",
    "from sklearn.metrics         import accuracy_score\n",
    "from sklearn.neural_network  import MLPClassifier\n",
    "from sklearn.linear_model    import Perceptron\n",
    "\n",
    "from yellowbrick.classifier  import ConfusionMatrix\n",
    "\n",
    "import random\n",
    "import warnings\n",
    "warnings.filterwarnings( \"ignore\" )"
   ]
  },
  {
   "cell_type": "markdown",
   "metadata": {},
   "source": [
    "## 1.1. Load data"
   ]
  },
  {
   "cell_type": "code",
   "execution_count": 19,
   "metadata": {},
   "outputs": [],
   "source": [
    "# Load data\n",
    "from mnist import MNIST\n",
    "\n",
    "mndata = MNIST( 'datasets/images_handwritten_digits' )\n",
    "\n",
    "image_train, label_train = mndata.load_training( )\n",
    "image_test, label_test = mndata.load_testing( )"
   ]
  },
  {
   "cell_type": "code",
   "execution_count": 23,
   "metadata": {},
   "outputs": [
    {
     "name": "stdout",
     "output_type": "stream",
     "text": [
      "\n",
      "............................\n",
      "............................\n",
      "............................\n",
      "............................\n",
      ".............@@@@...........\n",
      "..........@@@@@@@...........\n",
      ".........@@@@.@@@...........\n",
      "..........@@..@@@...........\n",
      "..............@@@...........\n",
      "..............@@............\n",
      ".............@@@............\n",
      ".............@@.............\n",
      "............@@@.............\n",
      "............@@@.............\n",
      "...........@@@..............\n",
      "...........@@@..............\n",
      "..........@@@...............\n",
      ".........@@@................\n",
      "........@@@@................\n",
      "........@@@.....@@@@........\n",
      ".......@@@@@@@@@@@@@@@@@....\n",
      "........@@@@@@@@@@@@@@@@....\n",
      "...........@@@@.............\n",
      "............................\n",
      "............................\n",
      "............................\n",
      "............................\n",
      "............................\n"
     ]
    }
   ],
   "source": [
    "# View an image\n",
    "index = random.randrange( 0, len( image_train ) ) \n",
    "print( mndata.display( image_train[index] ) )"
   ]
  },
  {
   "cell_type": "markdown",
   "metadata": {},
   "source": [
    "# 2. Preprocessing"
   ]
  },
  {
   "cell_type": "code",
   "execution_count": 24,
   "metadata": {},
   "outputs": [],
   "source": [
    "# Data transformation\n",
    "X_train = pd.DataFrame( image_train )\n",
    "X_test = pd.DataFrame( image_test )\n",
    "y_train = pd.DataFrame( label_train )\n",
    "y_test = pd.DataFrame( label_test )"
   ]
  },
  {
   "cell_type": "code",
   "execution_count": 25,
   "metadata": {},
   "outputs": [],
   "source": [
    "# Joining image Dataframes\n",
    "X = pd.concat( [X_train, X_test], ignore_index=True )\n",
    "\n",
    "# Joining target Dataframes\n",
    "y = pd.concat( [y_train, y_test], ignore_index=True )"
   ]
  },
  {
   "cell_type": "code",
   "execution_count": 14,
   "metadata": {},
   "outputs": [
    {
     "name": "stdout",
     "output_type": "stream",
     "text": [
      "Number of rows:  70000\n",
      "Number of columns:  784\n"
     ]
    }
   ],
   "source": [
    "# Data dimensions of image dataframe\n",
    "print( 'Number of rows: ', X.shape[0] )\n",
    "print( 'Number of columns: ', X.shape[1] )"
   ]
  },
  {
   "cell_type": "code",
   "execution_count": 26,
   "metadata": {},
   "outputs": [
    {
     "name": "stdout",
     "output_type": "stream",
     "text": [
      "Number of rows:  70000\n",
      "Number of columns:  1\n"
     ]
    }
   ],
   "source": [
    "# Data dimensions of target dataframe\n",
    "print( 'Number of rows: ', y.shape[0] )\n",
    "print( 'Number of columns: ', y.shape[1] )"
   ]
  },
  {
   "cell_type": "code",
   "execution_count": null,
   "metadata": {},
   "outputs": [],
   "source": []
  }
 ],
 "metadata": {
  "kernelspec": {
   "display_name": "Python 3",
   "language": "python",
   "name": "python3"
  },
  "language_info": {
   "codemirror_mode": {
    "name": "ipython",
    "version": 3
   },
   "file_extension": ".py",
   "mimetype": "text/x-python",
   "name": "python",
   "nbconvert_exporter": "python",
   "pygments_lexer": "ipython3",
   "version": "3.8.3"
  }
 },
 "nbformat": 4,
 "nbformat_minor": 4
}
