{
 "cells": [
  {
   "cell_type": "markdown",
   "metadata": {},
   "source": [
    "# Handwritten Digits Prediction"
   ]
  },
  {
   "cell_type": "markdown",
   "metadata": {},
   "source": [
    "<p align=\"center\">\n",
    "<img src=\"img/digits.gif\">\n",
    "</p>\n",
    "\n",
    "The MNIST database contains binary images of **handwritten digits**. The original black and white images from NIST were size normalized to fit in a 20x20 pixel box while preserving their aspect ratio. The resulting images contain grey levels as a result of the anti-aliasing technique used by the normalization algorithm. The images were centered in a 28x28 image by computing the center of mass of the pixels, and translating the image so as to position this point at the center of the 28x28 field.The database has a training set of 60,000 examples, and a test set of 10,000 examples. There are 10 classes (one for each of the 10 digits). **The task at hand is to train a model using the 60,000 training images and subsequently test its classification accuracy on the 10,000 test images**."
   ]
  },
  {
   "cell_type": "markdown",
   "metadata": {},
   "source": [
    "## 0.0. Imports"
   ]
  },
  {
   "cell_type": "code",
   "execution_count": 21,
   "metadata": {},
   "outputs": [],
   "source": [
    "import pandas as pd\n",
    "\n",
    "import random\n",
    "\n",
    "import scikitplot        as skplt\n",
    "\n",
    "from sklearn.preprocessing import MinMaxScaler\n",
    "\n",
    "from mnist import MNIST\n",
    "\n",
    "import warnings\n",
    "warnings.filterwarnings( \"ignore\" )"
   ]
  },
  {
   "cell_type": "markdown",
   "metadata": {},
   "source": [
    "## 0.1. Helper Functions"
   ]
  },
  {
   "cell_type": "code",
   "execution_count": null,
   "metadata": {},
   "outputs": [],
   "source": [
    "# Plot confusion matrix\n",
    "def confusion_matrix( y, predictions ):\n",
    "    skplt.metrics.plot_confusion_matrix( y, predictions )\n",
    "    plt.figure( figsize=(12, 8) )\n",
    "    plt.show()\n",
    "    \n",
    "    return None"
   ]
  },
  {
   "cell_type": "markdown",
   "metadata": {},
   "source": [
    "## 0.2. Loading Data"
   ]
  },
  {
   "cell_type": "code",
   "execution_count": 1,
   "metadata": {},
   "outputs": [],
   "source": [
    "# Load data\n",
    "mndata = MNIST( 'datasets/images_handwritten_digits' )\n",
    "\n",
    "image_train, label_train = mndata.load_training( )\n",
    "image_test, label_test = mndata.load_testing( )"
   ]
  },
  {
   "cell_type": "code",
   "execution_count": 4,
   "metadata": {},
   "outputs": [
    {
     "name": "stdout",
     "output_type": "stream",
     "text": [
      "\n",
      "............................\n",
      "............................\n",
      "...........@@...............\n",
      "..........@@@...............\n",
      ".........@@@@@..............\n",
      ".........@@@@...............\n",
      ".........@@@................\n",
      "........@@@@................\n",
      "........@@@@................\n",
      "........@@@.................\n",
      "........@@@....@@@..........\n",
      "........@@@@..@@@@@@........\n",
      "........@@@@.@@@@@@@@.......\n",
      "........@@@@.@@@@@@@@@......\n",
      "........@@@@@@@@@.@@@@@.....\n",
      ".........@@@@@@@@...@@@.....\n",
      ".........@@@@@@@@...@@@@....\n",
      "..........@@@@@@@@..@@@@....\n",
      "..........@@@@@@@@@@@@@@....\n",
      "...........@@@@@@@@@@@@@....\n",
      ".............@@@@@@@@@@.....\n",
      ".................@@@@@......\n",
      "............................\n",
      "............................\n",
      "............................\n",
      "............................\n",
      "............................\n",
      "............................\n"
     ]
    }
   ],
   "source": [
    "# View an image\n",
    "index = random.randrange( 0, len( image_train ) ) \n",
    "print( mndata.display( image_train[index] ) )"
   ]
  },
  {
   "cell_type": "code",
   "execution_count": 5,
   "metadata": {},
   "outputs": [],
   "source": [
    "# Data transformation\n",
    "image_train = pd.DataFrame( image_train )\n",
    "image_test = pd.DataFrame( image_test )\n",
    "label_train = pd.DataFrame( label_train )\n",
    "label_test = pd.DataFrame( label_test )"
   ]
  },
  {
   "cell_type": "code",
   "execution_count": 6,
   "metadata": {},
   "outputs": [],
   "source": [
    "# Joining image Dataframes\n",
    "X = pd.concat( [image_train, image_test], ignore_index=True )\n",
    "\n",
    "# Joining target Dataframes\n",
    "y = pd.concat( [label_train, label_test], ignore_index=True )"
   ]
  },
  {
   "cell_type": "markdown",
   "metadata": {},
   "source": [
    "## 1.0. Data Description"
   ]
  },
  {
   "cell_type": "code",
   "execution_count": 8,
   "metadata": {},
   "outputs": [
    {
     "name": "stdout",
     "output_type": "stream",
     "text": [
      "Número de linhas:  70000\n",
      "Número de colunas:  784\n"
     ]
    }
   ],
   "source": [
    "# Data dimensions\n",
    "print('Número de linhas: ', X.shape[0])\n",
    "print('Número de colunas: ', X.shape[1])"
   ]
  },
  {
   "cell_type": "code",
   "execution_count": 12,
   "metadata": {},
   "outputs": [
    {
     "name": "stdout",
     "output_type": "stream",
     "text": [
      "<class 'pandas.core.frame.DataFrame'>\n",
      "RangeIndex: 70000 entries, 0 to 69999\n",
      "Columns: 784 entries, 0 to 783\n",
      "dtypes: int64(784)\n",
      "memory usage: 418.7 MB\n"
     ]
    }
   ],
   "source": [
    "# Data types\n",
    "X.info()"
   ]
  },
  {
   "cell_type": "code",
   "execution_count": 20,
   "metadata": {},
   "outputs": [
    {
     "data": {
      "text/plain": [
       "783    0\n",
       "268    0\n",
       "266    0\n",
       "265    0\n",
       "264    0\n",
       "      ..\n",
       "520    0\n",
       "519    0\n",
       "518    0\n",
       "517    0\n",
       "0      0\n",
       "Length: 784, dtype: int64"
      ]
     },
     "execution_count": 20,
     "metadata": {},
     "output_type": "execute_result"
    }
   ],
   "source": [
    "# checking missing values\n",
    "X.isnull().sum().sort_values(ascending=False)"
   ]
  },
  {
   "cell_type": "code",
   "execution_count": 22,
   "metadata": {},
   "outputs": [],
   "source": [
    "# 2.0. Data preparation\n",
    "X = pd.DataFrame(MinMaxScaler().fit_transform(X))"
   ]
  },
  {
   "cell_type": "code",
   "execution_count": null,
   "metadata": {},
   "outputs": [],
   "source": []
  }
 ],
 "metadata": {
  "kernelspec": {
   "display_name": "Python 3",
   "language": "python",
   "name": "python3"
  },
  "language_info": {
   "codemirror_mode": {
    "name": "ipython",
    "version": 3
   },
   "file_extension": ".py",
   "mimetype": "text/x-python",
   "name": "python",
   "nbconvert_exporter": "python",
   "pygments_lexer": "ipython3",
   "version": "3.8.3"
  }
 },
 "nbformat": 4,
 "nbformat_minor": 4
}
